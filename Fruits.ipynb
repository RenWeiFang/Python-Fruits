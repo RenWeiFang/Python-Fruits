{
 "cells": [
  {
   "cell_type": "code",
   "execution_count": 1,
   "id": "c577d64e-982e-4ee5-851e-87d365492b5e",
   "metadata": {},
   "outputs": [
    {
     "name": "stdout",
     "output_type": "stream",
     "text": [
      "Today's fruit is :Banana\n"
     ]
    }
   ],
   "source": [
    "import random\n",
    "\n",
    "fruits=['Apple','Orange','Banana','Pear','Tomato']\n",
    "cf=random.choice(fruits)\n",
    "\n",
    "print(\"Today's fruit is :\" +cf)"
   ]
  },
  {
   "cell_type": "code",
   "execution_count": null,
   "id": "d0e36ade-e325-4f1a-8070-42e94e28a05c",
   "metadata": {},
   "outputs": [],
   "source": []
  }
 ],
 "metadata": {
  "kernelspec": {
   "display_name": "Python 3 (ipykernel)",
   "language": "python",
   "name": "python3"
  },
  "language_info": {
   "codemirror_mode": {
    "name": "ipython",
    "version": 3
   },
   "file_extension": ".py",
   "mimetype": "text/x-python",
   "name": "python",
   "nbconvert_exporter": "python",
   "pygments_lexer": "ipython3",
   "version": "3.11.7"
  }
 },
 "nbformat": 4,
 "nbformat_minor": 5
}
