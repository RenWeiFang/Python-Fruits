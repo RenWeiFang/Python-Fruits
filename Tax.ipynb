{
 "cells": [
  {
   "cell_type": "code",
   "execution_count": 1,
   "id": "f3dd9483-d242-4e2a-88aa-3ca5125c1754",
   "metadata": {},
   "outputs": [
    {
     "name": "stdin",
     "output_type": "stream",
     "text": [
      "請輸入淨年所得額 1000000\n"
     ]
    },
    {
     "name": "stdout",
     "output_type": "stream",
     "text": [
      "應繳稅額= 83600.0\n"
     ]
    }
   ],
   "source": [
    "level1=520000*0.05\n",
    "level2=(1170000-520000)*0.12\n",
    "level3=(2350000-1170000)*0.2\n",
    "level4=(4400000-2350000)*0.3\n",
    "level5=(10000000-4400000)*0.4\n",
    "income=int(input('請輸入淨年所得額'))\n",
    "\n",
    "if income <= 520000:\n",
    "    tax=income*0.05\n",
    "\n",
    "elif income <= 1170000:\n",
    "    tax=level1+((income-520000)*0.12)\n",
    "\n",
    "elif income <= 2350000:\n",
    "    tax=level1+level2+((income-1170000)*0.2)\n",
    "\n",
    "elif income <= 4400000:\n",
    "    tax=level1+level2+level3+((income-2350000)*0.3)\n",
    "\n",
    "elif income <= 10000000:\n",
    "    tax=level1+level2+level3+level4+((income-4400000)*0.4)\n",
    "\n",
    "else:\n",
    "    tax=level1+level2+level3+level4+level5+((income-10000000)*0.45)\n",
    "\n",
    "print('應繳稅額=',tax)"
   ]
  },
  {
   "cell_type": "code",
   "execution_count": null,
   "id": "7c1f1cd3-2cf1-4236-b857-07b5bd05dcce",
   "metadata": {},
   "outputs": [],
   "source": []
  }
 ],
 "metadata": {
  "kernelspec": {
   "display_name": "Python 3 (ipykernel)",
   "language": "python",
   "name": "python3"
  },
  "language_info": {
   "codemirror_mode": {
    "name": "ipython",
    "version": 3
   },
   "file_extension": ".py",
   "mimetype": "text/x-python",
   "name": "python",
   "nbconvert_exporter": "python",
   "pygments_lexer": "ipython3",
   "version": "3.11.7"
  }
 },
 "nbformat": 4,
 "nbformat_minor": 5
}
